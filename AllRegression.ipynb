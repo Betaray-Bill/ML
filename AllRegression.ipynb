{
  "nbformat": 4,
  "nbformat_minor": 0,
  "metadata": {
    "colab": {
      "name": "AllRegression.ipynb",
      "provenance": [],
      "collapsed_sections": []
    },
    "kernelspec": {
      "display_name": "Python 3",
      "language": "python",
      "name": "python3"
    },
    "language_info": {
      "codemirror_mode": {
        "name": "ipython",
        "version": 3
      },
      "file_extension": ".py",
      "mimetype": "text/x-python",
      "name": "python",
      "nbconvert_exporter": "python",
      "pygments_lexer": "ipython3",
      "version": "3.8.5"
    }
  },
  "cells": [
    {
      "cell_type": "code",
      "metadata": {
        "id": "IyyrDsBnsdaE"
      },
      "source": [
        "import pandas as pd #importing pandas to this envirnoment\n",
        "import numpy as np #importing numoy to this envirnoment\n",
        "import matplotlib.pyplot as plt #importing matplotlib to this envirnoment\n",
        "%matplotlib inline \n",
        "#To save the generated images along with the ipynb file"
      ],
      "execution_count": null,
      "outputs": []
    },
    {
      "cell_type": "code",
      "metadata": {
        "id": "0t-w2yWjstE7"
      },
      "source": [
        "df=pd.read_csv(\"indian_liver_patient.csv\") # reading the dataset using pandas and storing it in a variable called 'df'"
      ],
      "execution_count": null,
      "outputs": []
    },
    {
      "cell_type": "code",
      "metadata": {
        "colab": {
          "base_uri": "https://localhost:8080/",
          "height": 270
        },
        "id": "ccIjqz5iF9CY",
        "outputId": "c27b4451-7384-410b-b3a6-3d4829072aef"
      },
      "source": [
        "df.head() #visualizing top 5 rows in the dataset, pass any number inside the function if u want to visualize more number of rows"
      ],
      "execution_count": null,
      "outputs": [
        {
          "output_type": "execute_result",
          "data": {
            "text/html": [
              "\n",
              "  <div id=\"df-6bed80f3-0159-437c-9fe7-c64f3e90513e\">\n",
              "    <div class=\"colab-df-container\">\n",
              "      <div>\n",
              "<style scoped>\n",
              "    .dataframe tbody tr th:only-of-type {\n",
              "        vertical-align: middle;\n",
              "    }\n",
              "\n",
              "    .dataframe tbody tr th {\n",
              "        vertical-align: top;\n",
              "    }\n",
              "\n",
              "    .dataframe thead th {\n",
              "        text-align: right;\n",
              "    }\n",
              "</style>\n",
              "<table border=\"1\" class=\"dataframe\">\n",
              "  <thead>\n",
              "    <tr style=\"text-align: right;\">\n",
              "      <th></th>\n",
              "      <th>Age</th>\n",
              "      <th>Gender</th>\n",
              "      <th>Total_Bilirubin</th>\n",
              "      <th>Direct_Bilirubin</th>\n",
              "      <th>Alkaline_Phosphotase</th>\n",
              "      <th>Alamine_Aminotransferase</th>\n",
              "      <th>Aspartate_Aminotransferase</th>\n",
              "      <th>Total_Protiens</th>\n",
              "      <th>Albumin</th>\n",
              "      <th>Albumin_and_Globulin_Ratio</th>\n",
              "      <th>Type</th>\n",
              "    </tr>\n",
              "  </thead>\n",
              "  <tbody>\n",
              "    <tr>\n",
              "      <th>0</th>\n",
              "      <td>65</td>\n",
              "      <td>Female</td>\n",
              "      <td>0.7</td>\n",
              "      <td>0.1</td>\n",
              "      <td>187</td>\n",
              "      <td>16</td>\n",
              "      <td>18</td>\n",
              "      <td>6.8</td>\n",
              "      <td>3.3</td>\n",
              "      <td>0.90</td>\n",
              "      <td>1</td>\n",
              "    </tr>\n",
              "    <tr>\n",
              "      <th>1</th>\n",
              "      <td>62</td>\n",
              "      <td>Male</td>\n",
              "      <td>10.9</td>\n",
              "      <td>5.5</td>\n",
              "      <td>699</td>\n",
              "      <td>64</td>\n",
              "      <td>100</td>\n",
              "      <td>7.5</td>\n",
              "      <td>3.2</td>\n",
              "      <td>0.74</td>\n",
              "      <td>1</td>\n",
              "    </tr>\n",
              "    <tr>\n",
              "      <th>2</th>\n",
              "      <td>62</td>\n",
              "      <td>Male</td>\n",
              "      <td>7.3</td>\n",
              "      <td>4.1</td>\n",
              "      <td>490</td>\n",
              "      <td>60</td>\n",
              "      <td>68</td>\n",
              "      <td>7.0</td>\n",
              "      <td>3.3</td>\n",
              "      <td>0.89</td>\n",
              "      <td>1</td>\n",
              "    </tr>\n",
              "    <tr>\n",
              "      <th>3</th>\n",
              "      <td>58</td>\n",
              "      <td>Male</td>\n",
              "      <td>1.0</td>\n",
              "      <td>0.4</td>\n",
              "      <td>182</td>\n",
              "      <td>14</td>\n",
              "      <td>20</td>\n",
              "      <td>6.8</td>\n",
              "      <td>3.4</td>\n",
              "      <td>1.00</td>\n",
              "      <td>1</td>\n",
              "    </tr>\n",
              "    <tr>\n",
              "      <th>4</th>\n",
              "      <td>72</td>\n",
              "      <td>Male</td>\n",
              "      <td>3.9</td>\n",
              "      <td>2.0</td>\n",
              "      <td>195</td>\n",
              "      <td>27</td>\n",
              "      <td>59</td>\n",
              "      <td>7.3</td>\n",
              "      <td>2.4</td>\n",
              "      <td>0.40</td>\n",
              "      <td>1</td>\n",
              "    </tr>\n",
              "  </tbody>\n",
              "</table>\n",
              "</div>\n",
              "      <button class=\"colab-df-convert\" onclick=\"convertToInteractive('df-6bed80f3-0159-437c-9fe7-c64f3e90513e')\"\n",
              "              title=\"Convert this dataframe to an interactive table.\"\n",
              "              style=\"display:none;\">\n",
              "        \n",
              "  <svg xmlns=\"http://www.w3.org/2000/svg\" height=\"24px\"viewBox=\"0 0 24 24\"\n",
              "       width=\"24px\">\n",
              "    <path d=\"M0 0h24v24H0V0z\" fill=\"none\"/>\n",
              "    <path d=\"M18.56 5.44l.94 2.06.94-2.06 2.06-.94-2.06-.94-.94-2.06-.94 2.06-2.06.94zm-11 1L8.5 8.5l.94-2.06 2.06-.94-2.06-.94L8.5 2.5l-.94 2.06-2.06.94zm10 10l.94 2.06.94-2.06 2.06-.94-2.06-.94-.94-2.06-.94 2.06-2.06.94z\"/><path d=\"M17.41 7.96l-1.37-1.37c-.4-.4-.92-.59-1.43-.59-.52 0-1.04.2-1.43.59L10.3 9.45l-7.72 7.72c-.78.78-.78 2.05 0 2.83L4 21.41c.39.39.9.59 1.41.59.51 0 1.02-.2 1.41-.59l7.78-7.78 2.81-2.81c.8-.78.8-2.07 0-2.86zM5.41 20L4 18.59l7.72-7.72 1.47 1.35L5.41 20z\"/>\n",
              "  </svg>\n",
              "      </button>\n",
              "      \n",
              "  <style>\n",
              "    .colab-df-container {\n",
              "      display:flex;\n",
              "      flex-wrap:wrap;\n",
              "      gap: 12px;\n",
              "    }\n",
              "\n",
              "    .colab-df-convert {\n",
              "      background-color: #E8F0FE;\n",
              "      border: none;\n",
              "      border-radius: 50%;\n",
              "      cursor: pointer;\n",
              "      display: none;\n",
              "      fill: #1967D2;\n",
              "      height: 32px;\n",
              "      padding: 0 0 0 0;\n",
              "      width: 32px;\n",
              "    }\n",
              "\n",
              "    .colab-df-convert:hover {\n",
              "      background-color: #E2EBFA;\n",
              "      box-shadow: 0px 1px 2px rgba(60, 64, 67, 0.3), 0px 1px 3px 1px rgba(60, 64, 67, 0.15);\n",
              "      fill: #174EA6;\n",
              "    }\n",
              "\n",
              "    [theme=dark] .colab-df-convert {\n",
              "      background-color: #3B4455;\n",
              "      fill: #D2E3FC;\n",
              "    }\n",
              "\n",
              "    [theme=dark] .colab-df-convert:hover {\n",
              "      background-color: #434B5C;\n",
              "      box-shadow: 0px 1px 3px 1px rgba(0, 0, 0, 0.15);\n",
              "      filter: drop-shadow(0px 1px 2px rgba(0, 0, 0, 0.3));\n",
              "      fill: #FFFFFF;\n",
              "    }\n",
              "  </style>\n",
              "\n",
              "      <script>\n",
              "        const buttonEl =\n",
              "          document.querySelector('#df-6bed80f3-0159-437c-9fe7-c64f3e90513e button.colab-df-convert');\n",
              "        buttonEl.style.display =\n",
              "          google.colab.kernel.accessAllowed ? 'block' : 'none';\n",
              "\n",
              "        async function convertToInteractive(key) {\n",
              "          const element = document.querySelector('#df-6bed80f3-0159-437c-9fe7-c64f3e90513e');\n",
              "          const dataTable =\n",
              "            await google.colab.kernel.invokeFunction('convertToInteractive',\n",
              "                                                     [key], {});\n",
              "          if (!dataTable) return;\n",
              "\n",
              "          const docLinkHtml = 'Like what you see? Visit the ' +\n",
              "            '<a target=\"_blank\" href=https://colab.research.google.com/notebooks/data_table.ipynb>data table notebook</a>'\n",
              "            + ' to learn more about interactive tables.';\n",
              "          element.innerHTML = '';\n",
              "          dataTable['output_type'] = 'display_data';\n",
              "          await google.colab.output.renderOutput(dataTable, element);\n",
              "          const docLink = document.createElement('div');\n",
              "          docLink.innerHTML = docLinkHtml;\n",
              "          element.appendChild(docLink);\n",
              "        }\n",
              "      </script>\n",
              "    </div>\n",
              "  </div>\n",
              "  "
            ],
            "text/plain": [
              "   Age  Gender  Total_Bilirubin  ...  Albumin  Albumin_and_Globulin_Ratio  Type\n",
              "0   65  Female              0.7  ...      3.3                        0.90     1\n",
              "1   62    Male             10.9  ...      3.2                        0.74     1\n",
              "2   62    Male              7.3  ...      3.3                        0.89     1\n",
              "3   58    Male              1.0  ...      3.4                        1.00     1\n",
              "4   72    Male              3.9  ...      2.4                        0.40     1\n",
              "\n",
              "[5 rows x 11 columns]"
            ]
          },
          "metadata": {},
          "execution_count": 3
        }
      ]
    },
    {
      "cell_type": "code",
      "metadata": {
        "colab": {
          "base_uri": "https://localhost:8080/"
        },
        "id": "xMDTNu0ZGBbG",
        "outputId": "2d93dd52-fbc7-4ee3-ba44-8d9f3f4a6e98"
      },
      "source": [
        "df.shape #printing no. of rows and columns"
      ],
      "execution_count": null,
      "outputs": [
        {
          "output_type": "execute_result",
          "data": {
            "text/plain": [
              "(583, 11)"
            ]
          },
          "metadata": {},
          "execution_count": 4
        }
      ]
    },
    {
      "cell_type": "code",
      "metadata": {
        "colab": {
          "base_uri": "https://localhost:8080/"
        },
        "id": "KjtoC1MLGGVS",
        "outputId": "7b94dcc7-dc15-4b3b-a750-2e6887daed96"
      },
      "source": [
        "df.columns #printing name of columns"
      ],
      "execution_count": null,
      "outputs": [
        {
          "output_type": "execute_result",
          "data": {
            "text/plain": [
              "Index(['Age', 'Gender', 'Total_Bilirubin', 'Direct_Bilirubin',\n",
              "       'Alkaline_Phosphotase', 'Alamine_Aminotransferase',\n",
              "       'Aspartate_Aminotransferase', 'Total_Protiens', 'Albumin',\n",
              "       'Albumin_and_Globulin_Ratio', 'Type'],\n",
              "      dtype='object')"
            ]
          },
          "metadata": {},
          "execution_count": 5
        }
      ]
    },
    {
      "cell_type": "code",
      "metadata": {
        "colab": {
          "base_uri": "https://localhost:8080/"
        },
        "id": "PgoRNpxvGWxy",
        "outputId": "71cbceab-2af0-4222-fa13-84e49205bd05"
      },
      "source": [
        "df.info() #printing information of data."
      ],
      "execution_count": null,
      "outputs": [
        {
          "output_type": "stream",
          "name": "stdout",
          "text": [
            "<class 'pandas.core.frame.DataFrame'>\n",
            "RangeIndex: 583 entries, 0 to 582\n",
            "Data columns (total 11 columns):\n",
            " #   Column                      Non-Null Count  Dtype  \n",
            "---  ------                      --------------  -----  \n",
            " 0   Age                         583 non-null    int64  \n",
            " 1   Gender                      583 non-null    object \n",
            " 2   Total_Bilirubin             583 non-null    float64\n",
            " 3   Direct_Bilirubin            583 non-null    float64\n",
            " 4   Alkaline_Phosphotase        583 non-null    int64  \n",
            " 5   Alamine_Aminotransferase    583 non-null    int64  \n",
            " 6   Aspartate_Aminotransferase  583 non-null    int64  \n",
            " 7   Total_Protiens              583 non-null    float64\n",
            " 8   Albumin                     583 non-null    float64\n",
            " 9   Albumin_and_Globulin_Ratio  579 non-null    float64\n",
            " 10  Type                        583 non-null    int64  \n",
            "dtypes: float64(5), int64(5), object(1)\n",
            "memory usage: 50.2+ KB\n"
          ]
        }
      ]
    },
    {
      "cell_type": "code",
      "metadata": {
        "id": "18RVwtf3svAQ"
      },
      "source": [
        "df=df.drop_duplicates() #to remove duplicates points  "
      ],
      "execution_count": null,
      "outputs": []
    },
    {
      "cell_type": "code",
      "metadata": {
        "colab": {
          "base_uri": "https://localhost:8080/"
        },
        "id": "r6arytSYGaOV",
        "outputId": "0880ef0e-f2e3-4834-c7b7-cd41a344946d"
      },
      "source": [
        "df.shape"
      ],
      "execution_count": null,
      "outputs": [
        {
          "output_type": "execute_result",
          "data": {
            "text/plain": [
              "(570, 11)"
            ]
          },
          "metadata": {},
          "execution_count": 8
        }
      ]
    },
    {
      "cell_type": "code",
      "metadata": {
        "colab": {
          "base_uri": "https://localhost:8080/"
        },
        "id": "hPCNGnE5HJUO",
        "outputId": "d2f69c06-39ea-43e7-9e34-663ad653077d"
      },
      "source": [
        "df.isnull().sum() #print no. of cells that are empty in a column"
      ],
      "execution_count": null,
      "outputs": [
        {
          "output_type": "execute_result",
          "data": {
            "text/plain": [
              "Age                           0\n",
              "Gender                        0\n",
              "Total_Bilirubin               0\n",
              "Direct_Bilirubin              0\n",
              "Alkaline_Phosphotase          0\n",
              "Alamine_Aminotransferase      0\n",
              "Aspartate_Aminotransferase    0\n",
              "Total_Protiens                0\n",
              "Albumin                       0\n",
              "Albumin_and_Globulin_Ratio    4\n",
              "Type                          0\n",
              "dtype: int64"
            ]
          },
          "metadata": {},
          "execution_count": 9
        }
      ]
    },
    {
      "cell_type": "code",
      "metadata": {
        "id": "MYvSXvTHHcpb"
      },
      "source": [
        "df=df.dropna() #dropping the rows that has empty columns"
      ],
      "execution_count": null,
      "outputs": []
    },
    {
      "cell_type": "code",
      "source": [
        "df.isnull().sum()"
      ],
      "metadata": {
        "colab": {
          "base_uri": "https://localhost:8080/"
        },
        "id": "K8xmglyBPhMg",
        "outputId": "8b14416f-7c88-48f5-e899-e27e8b221810"
      },
      "execution_count": null,
      "outputs": [
        {
          "output_type": "execute_result",
          "data": {
            "text/plain": [
              "Age                           0\n",
              "Gender                        0\n",
              "Total_Bilirubin               0\n",
              "Direct_Bilirubin              0\n",
              "Alkaline_Phosphotase          0\n",
              "Alamine_Aminotransferase      0\n",
              "Aspartate_Aminotransferase    0\n",
              "Total_Protiens                0\n",
              "Albumin                       0\n",
              "Albumin_and_Globulin_Ratio    0\n",
              "Type                          0\n",
              "dtype: int64"
            ]
          },
          "metadata": {},
          "execution_count": 11
        }
      ]
    },
    {
      "cell_type": "code",
      "metadata": {
        "id": "V0m15ytWLYsQ"
      },
      "source": [
        "df.drop(\"Gender\",axis=1,inplace=True) #dropping a column, put axis =1 ; put axis=0 for dropping a row"
      ],
      "execution_count": null,
      "outputs": []
    },
    {
      "cell_type": "code",
      "metadata": {
        "colab": {
          "base_uri": "https://localhost:8080/",
          "height": 270
        },
        "id": "-FZbcyLdLmWI",
        "outputId": "162a2783-ff34-461c-a49c-80215a54609a"
      },
      "source": [
        "df.head()"
      ],
      "execution_count": null,
      "outputs": [
        {
          "output_type": "execute_result",
          "data": {
            "text/html": [
              "\n",
              "  <div id=\"df-5df8171e-546c-4b07-aed7-ffac65da2df0\">\n",
              "    <div class=\"colab-df-container\">\n",
              "      <div>\n",
              "<style scoped>\n",
              "    .dataframe tbody tr th:only-of-type {\n",
              "        vertical-align: middle;\n",
              "    }\n",
              "\n",
              "    .dataframe tbody tr th {\n",
              "        vertical-align: top;\n",
              "    }\n",
              "\n",
              "    .dataframe thead th {\n",
              "        text-align: right;\n",
              "    }\n",
              "</style>\n",
              "<table border=\"1\" class=\"dataframe\">\n",
              "  <thead>\n",
              "    <tr style=\"text-align: right;\">\n",
              "      <th></th>\n",
              "      <th>Age</th>\n",
              "      <th>Total_Bilirubin</th>\n",
              "      <th>Direct_Bilirubin</th>\n",
              "      <th>Alkaline_Phosphotase</th>\n",
              "      <th>Alamine_Aminotransferase</th>\n",
              "      <th>Aspartate_Aminotransferase</th>\n",
              "      <th>Total_Protiens</th>\n",
              "      <th>Albumin</th>\n",
              "      <th>Albumin_and_Globulin_Ratio</th>\n",
              "      <th>Type</th>\n",
              "    </tr>\n",
              "  </thead>\n",
              "  <tbody>\n",
              "    <tr>\n",
              "      <th>0</th>\n",
              "      <td>65</td>\n",
              "      <td>0.7</td>\n",
              "      <td>0.1</td>\n",
              "      <td>187</td>\n",
              "      <td>16</td>\n",
              "      <td>18</td>\n",
              "      <td>6.8</td>\n",
              "      <td>3.3</td>\n",
              "      <td>0.90</td>\n",
              "      <td>1</td>\n",
              "    </tr>\n",
              "    <tr>\n",
              "      <th>1</th>\n",
              "      <td>62</td>\n",
              "      <td>10.9</td>\n",
              "      <td>5.5</td>\n",
              "      <td>699</td>\n",
              "      <td>64</td>\n",
              "      <td>100</td>\n",
              "      <td>7.5</td>\n",
              "      <td>3.2</td>\n",
              "      <td>0.74</td>\n",
              "      <td>1</td>\n",
              "    </tr>\n",
              "    <tr>\n",
              "      <th>2</th>\n",
              "      <td>62</td>\n",
              "      <td>7.3</td>\n",
              "      <td>4.1</td>\n",
              "      <td>490</td>\n",
              "      <td>60</td>\n",
              "      <td>68</td>\n",
              "      <td>7.0</td>\n",
              "      <td>3.3</td>\n",
              "      <td>0.89</td>\n",
              "      <td>1</td>\n",
              "    </tr>\n",
              "    <tr>\n",
              "      <th>3</th>\n",
              "      <td>58</td>\n",
              "      <td>1.0</td>\n",
              "      <td>0.4</td>\n",
              "      <td>182</td>\n",
              "      <td>14</td>\n",
              "      <td>20</td>\n",
              "      <td>6.8</td>\n",
              "      <td>3.4</td>\n",
              "      <td>1.00</td>\n",
              "      <td>1</td>\n",
              "    </tr>\n",
              "    <tr>\n",
              "      <th>4</th>\n",
              "      <td>72</td>\n",
              "      <td>3.9</td>\n",
              "      <td>2.0</td>\n",
              "      <td>195</td>\n",
              "      <td>27</td>\n",
              "      <td>59</td>\n",
              "      <td>7.3</td>\n",
              "      <td>2.4</td>\n",
              "      <td>0.40</td>\n",
              "      <td>1</td>\n",
              "    </tr>\n",
              "  </tbody>\n",
              "</table>\n",
              "</div>\n",
              "      <button class=\"colab-df-convert\" onclick=\"convertToInteractive('df-5df8171e-546c-4b07-aed7-ffac65da2df0')\"\n",
              "              title=\"Convert this dataframe to an interactive table.\"\n",
              "              style=\"display:none;\">\n",
              "        \n",
              "  <svg xmlns=\"http://www.w3.org/2000/svg\" height=\"24px\"viewBox=\"0 0 24 24\"\n",
              "       width=\"24px\">\n",
              "    <path d=\"M0 0h24v24H0V0z\" fill=\"none\"/>\n",
              "    <path d=\"M18.56 5.44l.94 2.06.94-2.06 2.06-.94-2.06-.94-.94-2.06-.94 2.06-2.06.94zm-11 1L8.5 8.5l.94-2.06 2.06-.94-2.06-.94L8.5 2.5l-.94 2.06-2.06.94zm10 10l.94 2.06.94-2.06 2.06-.94-2.06-.94-.94-2.06-.94 2.06-2.06.94z\"/><path d=\"M17.41 7.96l-1.37-1.37c-.4-.4-.92-.59-1.43-.59-.52 0-1.04.2-1.43.59L10.3 9.45l-7.72 7.72c-.78.78-.78 2.05 0 2.83L4 21.41c.39.39.9.59 1.41.59.51 0 1.02-.2 1.41-.59l7.78-7.78 2.81-2.81c.8-.78.8-2.07 0-2.86zM5.41 20L4 18.59l7.72-7.72 1.47 1.35L5.41 20z\"/>\n",
              "  </svg>\n",
              "      </button>\n",
              "      \n",
              "  <style>\n",
              "    .colab-df-container {\n",
              "      display:flex;\n",
              "      flex-wrap:wrap;\n",
              "      gap: 12px;\n",
              "    }\n",
              "\n",
              "    .colab-df-convert {\n",
              "      background-color: #E8F0FE;\n",
              "      border: none;\n",
              "      border-radius: 50%;\n",
              "      cursor: pointer;\n",
              "      display: none;\n",
              "      fill: #1967D2;\n",
              "      height: 32px;\n",
              "      padding: 0 0 0 0;\n",
              "      width: 32px;\n",
              "    }\n",
              "\n",
              "    .colab-df-convert:hover {\n",
              "      background-color: #E2EBFA;\n",
              "      box-shadow: 0px 1px 2px rgba(60, 64, 67, 0.3), 0px 1px 3px 1px rgba(60, 64, 67, 0.15);\n",
              "      fill: #174EA6;\n",
              "    }\n",
              "\n",
              "    [theme=dark] .colab-df-convert {\n",
              "      background-color: #3B4455;\n",
              "      fill: #D2E3FC;\n",
              "    }\n",
              "\n",
              "    [theme=dark] .colab-df-convert:hover {\n",
              "      background-color: #434B5C;\n",
              "      box-shadow: 0px 1px 3px 1px rgba(0, 0, 0, 0.15);\n",
              "      filter: drop-shadow(0px 1px 2px rgba(0, 0, 0, 0.3));\n",
              "      fill: #FFFFFF;\n",
              "    }\n",
              "  </style>\n",
              "\n",
              "      <script>\n",
              "        const buttonEl =\n",
              "          document.querySelector('#df-5df8171e-546c-4b07-aed7-ffac65da2df0 button.colab-df-convert');\n",
              "        buttonEl.style.display =\n",
              "          google.colab.kernel.accessAllowed ? 'block' : 'none';\n",
              "\n",
              "        async function convertToInteractive(key) {\n",
              "          const element = document.querySelector('#df-5df8171e-546c-4b07-aed7-ffac65da2df0');\n",
              "          const dataTable =\n",
              "            await google.colab.kernel.invokeFunction('convertToInteractive',\n",
              "                                                     [key], {});\n",
              "          if (!dataTable) return;\n",
              "\n",
              "          const docLinkHtml = 'Like what you see? Visit the ' +\n",
              "            '<a target=\"_blank\" href=https://colab.research.google.com/notebooks/data_table.ipynb>data table notebook</a>'\n",
              "            + ' to learn more about interactive tables.';\n",
              "          element.innerHTML = '';\n",
              "          dataTable['output_type'] = 'display_data';\n",
              "          await google.colab.output.renderOutput(dataTable, element);\n",
              "          const docLink = document.createElement('div');\n",
              "          docLink.innerHTML = docLinkHtml;\n",
              "          element.appendChild(docLink);\n",
              "        }\n",
              "      </script>\n",
              "    </div>\n",
              "  </div>\n",
              "  "
            ],
            "text/plain": [
              "   Age  Total_Bilirubin  ...  Albumin_and_Globulin_Ratio  Type\n",
              "0   65              0.7  ...                        0.90     1\n",
              "1   62             10.9  ...                        0.74     1\n",
              "2   62              7.3  ...                        0.89     1\n",
              "3   58              1.0  ...                        1.00     1\n",
              "4   72              3.9  ...                        0.40     1\n",
              "\n",
              "[5 rows x 10 columns]"
            ]
          },
          "metadata": {},
          "execution_count": 13
        }
      ]
    },
    {
      "cell_type": "code",
      "metadata": {
        "id": "-aXYGVX7Lojf"
      },
      "source": [
        "x=df.iloc[:,df.columns!=\"Total_Protiens\"] # all the columns excepts 'Type' are stored in the variable 'x'\n",
        "y=df.iloc[:,df.columns==\"Total_Protiens\"] # the column that is 'Type' is stored in variable 'y'"
      ],
      "execution_count": null,
      "outputs": []
    },
    {
      "cell_type": "code",
      "metadata": {
        "id": "stJh_HZltdmu"
      },
      "source": [
        "from sklearn.model_selection import train_test_split  #importing train_test_split function\n",
        "xtrain,xtest,ytrain,ytest=train_test_split(x,y,test_size=0.2) #0.2 means 20% of data allocated for test set"
      ],
      "execution_count": null,
      "outputs": []
    },
    {
      "cell_type": "code",
      "metadata": {
        "id": "Fp5aETzGtfpb",
        "colab": {
          "base_uri": "https://localhost:8080/"
        },
        "outputId": "d324075e-0133-42de-a782-2e841566da72"
      },
      "source": [
        "#Regression Algos\n",
        "\n",
        "#Linear Regression\n",
        "from sklearn.linear_model import LinearRegression  #importing the function of algorithm\n",
        "lr=LinearRegression()  # Storing the function in a variable\n",
        "lr.fit(xtrain,ytrain)  # passing the training data in the variable that has the function/algorithm\n",
        "\n",
        "\n",
        "#Polynomial Regression\n",
        "from sklearn.preprocessing import PolynomialFeatures\n",
        "from sklearn.pipeline import make_pipeline\n",
        "from sklearn.linear_model import LinearRegression\n",
        "degree=5 #close to number of x columns\n",
        "pr=make_pipeline(PolynomialFeatures(degree),LinearRegression())\n",
        "pr.fit(xtrain,ytrain.values.ravel())\n",
        "\n",
        "\n",
        "#Support Vector Regression\n",
        "from sklearn.svm import SVR\n",
        "from sklearn.pipeline import make_pipeline\n",
        "svr = SVR(kernel='linear')\n",
        "svr.fit(xtrain,ytrain.values.ravel())\n",
        "\n",
        "\n",
        "#Decision Tree Regression\n",
        "from sklearn.tree import DecisionTreeRegressor\n",
        "dtr=DecisionTreeRegressor()\n",
        "dtr.fit(xtrain,ytrain.values.ravel())\n",
        "\n",
        "\n",
        "#Decision Tree with adaptive boosting\n",
        "from sklearn.tree import DecisionTreeRegressor\n",
        "from sklearn.ensemble import AdaBoostRegressor\n",
        "adar = AdaBoostRegressor(DecisionTreeRegressor(max_depth=4),\n",
        "                          n_estimators=300)\n",
        "adar.fit(xtrain,ytrain.values.ravel())\n",
        "\n",
        "\n",
        "#Random Forest Regression\n",
        "from sklearn.ensemble import RandomForestRegressor\n",
        "rfr=RandomForestRegressor(n_estimators = 200)\n",
        "rfr.fit(xtrain,ytrain.values.ravel())\n",
        "\n",
        "\n",
        "#Gradient Boosting Regression\n",
        "from sklearn.ensemble import GradientBoostingRegressor\n",
        "gbr = GradientBoostingRegressor(n_estimators=100, learning_rate=1.0,\n",
        "                                 max_depth=4,random_state=1).fit(xtrain, ytrain.values.ravel())\n",
        "\n",
        "\n",
        "#Elasticnet Regression\n",
        "from sklearn.linear_model import ElasticNet\n",
        "er = ElasticNet(alpha=1.0, l1_ratio=0.5)\n",
        "er.fit(xtrain,ytrain.values.ravel())\n",
        "\n",
        "\n",
        "#Ridge Regression\n",
        "from sklearn.linear_model import Ridge\n",
        "rr = Ridge(alpha=1.0)\n",
        "rr.fit(xtrain,ytrain.values.ravel())\n",
        "\n",
        "\n",
        "#Lasso Regression\n",
        "from sklearn import linear_model\n",
        "lsr = linear_model.Lasso(alpha=0.1)\n",
        "lsr.fit(xtrain,ytrain.values.ravel())"
      ],
      "execution_count": null,
      "outputs": [
        {
          "output_type": "execute_result",
          "data": {
            "text/plain": [
              "Lasso(alpha=0.1)"
            ]
          },
          "metadata": {},
          "execution_count": 25
        }
      ]
    },
    {
      "cell_type": "code",
      "source": [
        "from sklearn.metrics import r2_score #importing r2 score function\n",
        "print(\"R2 Score\")\n",
        "print(\"Linear Regression\",r2_score(ytest,lr.predict(xtest))) \n",
        "print(\"Polynomial Regression\",r2_score(ytest,pr.predict(xtest)))\n",
        "print(\"Support Vector Regression\",r2_score(ytest,svr.predict(xtest)))\n",
        "print(\"Decision Tree Regression\",r2_score(ytest,dtr.predict(xtest)))\n",
        "print(\"Decision Tree with adaboost\",r2_score(ytest,adar.predict(xtest)))\n",
        "print(\"Random Forest Regression\",r2_score(ytest,rfr.predict(xtest)))\n",
        "print(\"Gradient Boost Regression\",r2_score(ytest,gbr.predict(xtest)))\n",
        "print(\"ElasticNet Regression\",r2_score(ytest,er.predict(xtest)))\n",
        "print(\"Ridge Regression\",r2_score(ytest,rr.predict(xtest)))\n",
        "print(\"Lasso Regression\",r2_score(ytest,lsr.predict(xtest)))\n",
        "#inside the function pass ytest(actual y) & ypred(predicted y), ypred=modelname.precict xtest"
      ],
      "metadata": {
        "colab": {
          "base_uri": "https://localhost:8080/"
        },
        "id": "Uy6vGVQ6Wqb-",
        "outputId": "7351d577-c691-4ead-f823-3994d2400c20"
      },
      "execution_count": null,
      "outputs": [
        {
          "output_type": "stream",
          "name": "stdout",
          "text": [
            "R2 Score\n",
            "Linear Regression 0.8461458574000762\n",
            "Polynomial Regression -5096917261.31694\n",
            "Support Vector Regression 0.8925192795117239\n",
            "Decision Tree Regression 0.7818488773000198\n",
            "Decision Tree with adaboost 0.7828771670990967\n",
            "Random Forest Regression 0.8707790986888675\n",
            "Gradient Boost Regression 0.7675751339906417\n",
            "ElasticNet Regression 0.11592521373686626\n",
            "Ridge Regression 0.8389783925705427\n",
            "Lasso Regression 0.5845934822304384\n"
          ]
        }
      ]
    },
    {
      "cell_type": "code",
      "metadata": {
        "id": "lbdJM6dwJhgP",
        "colab": {
          "base_uri": "https://localhost:8080/"
        },
        "outputId": "584d7740-fc13-4e3f-919a-bf8f5db42d6d"
      },
      "source": [
        "from sklearn.metrics import mean_absolute_error\n",
        "print(\"Mean Absolute Error\")\n",
        "print(\"Linear Regression\",mean_absolute_error(ytest,lr.predict(xtest)))\n",
        "print(\"Polynomial Regression\",mean_absolute_error(ytest,pr.predict(xtest)))\n",
        "print(\"Support Vector Regression\",mean_absolute_error(ytest,svr.predict(xtest)))\n",
        "print(\"Decision Tree Regression\",mean_absolute_error(ytest,dtr.predict(xtest)))\n",
        "print(\"Decision Tree with adaboost\",mean_absolute_error(ytest,adar.predict(xtest)))\n",
        "print(\"Random Forest Regression\",mean_absolute_error(ytest,rfr.predict(xtest)))\n",
        "print(\"Gradient Boost Regression\",mean_absolute_error(ytest,gbr.predict(xtest)))\n",
        "print(\"ElasticNet Regression\",mean_absolute_error(ytest,er.predict(xtest)))\n",
        "print(\"Ridge Regression\",mean_absolute_error(ytest,rr.predict(xtest)))\n",
        "print(\"Lasso Regression\",mean_absolute_error(ytest,lsr.predict(xtest)))\n",
        "#inside the function pass ytest(actual y) & ypred(predicted y), ypred=modelname.precict xtest"
      ],
      "execution_count": null,
      "outputs": [
        {
          "output_type": "stream",
          "name": "stdout",
          "text": [
            "Mean Absolute Error\n",
            "Linear Regression 0.3000611225036193\n",
            "Polynomial Regression 12428.050721464057\n",
            "Support Vector Regression 0.1936503575576906\n",
            "Decision Tree Regression 0.32807017543859646\n",
            "Decision Tree with adaboost 0.3694216419645787\n",
            "Random Forest Regression 0.21943421052631634\n",
            "Gradient Boost Regression 0.36886368047777873\n",
            "ElasticNet Regression 0.8199561289610996\n",
            "Ridge Regression 0.3097504137546311\n",
            "Lasso Regression 0.5462420050355498\n"
          ]
        }
      ]
    },
    {
      "cell_type": "code",
      "metadata": {
        "id": "quomtEOgJhgQ",
        "colab": {
          "base_uri": "https://localhost:8080/"
        },
        "outputId": "32612665-5982-42e8-e4b5-b7544352e14e"
      },
      "source": [
        "from sklearn.metrics import mean_squared_error\n",
        "print(\"Mean Squared Error\")\n",
        "print(\"Linear Regression\",mean_squared_error(ytest,lr.predict(xtest)))\n",
        "print(\"Polynomial Regression\",mean_squared_error(ytest,pr.predict(xtest)))\n",
        "print(\"Support Vector Regression\",mean_squared_error(ytest,svr.predict(xtest)))\n",
        "print(\"Decision Tree Regression\",mean_squared_error(ytest,dtr.predict(xtest)))\n",
        "print(\"Decision Tree with adaboost\",mean_squared_error(ytest,adar.predict(xtest)))\n",
        "print(\"Random Forest Regression\",mean_squared_error(ytest,rfr.predict(xtest)))\n",
        "print(\"Gradient Boost Regression\",mean_squared_error(ytest,gbr.predict(xtest)))\n",
        "print(\"ElasticNet Regression\",mean_squared_error(ytest,er.predict(xtest)))\n",
        "print(\"Ridge Regression\",mean_squared_error(ytest,rr.predict(xtest)))\n",
        "print(\"Lasso Regression\",mean_squared_error(ytest,lsr.predict(xtest)))\n",
        "#inside the function pass ytest(actual y) & ypred(predicted y), ypred=modelname.precict xtest"
      ],
      "execution_count": null,
      "outputs": [
        {
          "output_type": "stream",
          "name": "stdout",
          "text": [
            "Mean Squared Error\n",
            "Linear Regression 0.18596699217293475\n",
            "Polynomial Regression 6160759512.937934\n",
            "Support Vector Regression 0.12991438493638918\n",
            "Decision Tree Regression 0.26368421052631574\n",
            "Decision Tree with adaboost 0.2624412933205457\n",
            "Random Forest Regression 0.15619223464912307\n",
            "Gradient Boost Regression 0.2809372078485661\n",
            "ElasticNet Regression 1.0686012484227156\n",
            "Ridge Regression 0.19463046949846682\n",
            "Lasso Regression 0.5021112810691154\n"
          ]
        }
      ]
    }
  ]
}